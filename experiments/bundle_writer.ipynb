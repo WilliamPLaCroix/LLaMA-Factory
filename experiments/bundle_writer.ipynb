{
 "cells": [
  {
   "cell_type": "code",
   "execution_count": 1,
   "id": "5bdb73f9",
   "metadata": {},
   "outputs": [],
   "source": [
    "import os\n",
    "from itertools import product\n",
    "\n",
    "endings = ['.sub', '.sh', '.yaml']\n",
    "variations = ['original', 'cleaned', 'augmented']\n",
    "stages = ['baseline', 'grade']\n",
    "\n",
    "for ending, variation, stage in product(endings, variations, stages):\n",
    "    filename = f\"{stage}_{variation}{ending}\"\n",
    "    with open(filename, 'w') as f:\n",
    "        pass  # Create an empty file\n"
   ]
  }
 ],
 "metadata": {
  "kernelspec": {
   "display_name": "Python 3",
   "language": "python",
   "name": "python3"
  },
  "language_info": {
   "codemirror_mode": {
    "name": "ipython",
    "version": 3
   },
   "file_extension": ".py",
   "mimetype": "text/x-python",
   "name": "python",
   "nbconvert_exporter": "python",
   "pygments_lexer": "ipython3",
   "version": "3.12.7"
  }
 },
 "nbformat": 4,
 "nbformat_minor": 5
}
